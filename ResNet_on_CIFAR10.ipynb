{
 "cells": [
  {
   "cell_type": "markdown",
   "metadata": {
    "colab_type": "text",
    "id": "Iq1oRGH9150O"
   },
   "source": [
    "# Dataset: CIFAR-10\n",
    "\n",
    "## Code Used: https://github.com/drgripa1/resnet-cifar10\n"
   ]
  },
  {
   "cell_type": "markdown",
   "metadata": {
    "colab_type": "text",
    "id": "47dLrb0F0hNa"
   },
   "source": [
    "# Setting up environment and importing libraries"
   ]
  },
  {
   "cell_type": "markdown",
   "metadata": {
    "colab_type": "text",
    "id": "nFvDwWiE3c7Y"
   },
   "source": [
    "## Requirements:\n",
    "\n",
    "\n",
    "1.   Keras\n",
    "2.   Code from: https://github.com/drgripa1/resnet-cifar10\n",
    "3.   Numpy\n",
    "4.   Matplotlib\n",
    "5.   OpenCV\n",
    "\n"
   ]
  },
  {
   "cell_type": "code",
   "execution_count": 6,
   "metadata": {
    "colab": {
     "base_uri": "https://localhost:8080/",
     "height": 497
    },
    "colab_type": "code",
    "id": "ATd53CwK0Um9",
    "outputId": "594c6720-dd09-439e-b2d9-e9d28a5372c6"
   },
   "outputs": [
    {
     "name": "stderr",
     "output_type": "stream",
     "text": [
      "fatal: destination path 'resnet-cifar10' already exists and is not an empty directory.\n"
     ]
    }
   ],
   "source": [
    "# https://keras.io/\n",
    "!git clone https://github.com/drgripa1/resnet-cifar10.git"
   ]
  },
  {
   "cell_type": "code",
   "execution_count": 0,
   "metadata": {
    "colab": {},
    "colab_type": "code",
    "id": "PyQsjt5a-5dI"
   },
   "outputs": [],
   "source": [
    "from keras.datasets import cifar10\n",
    "from classification_models.resnet import ResNet18, preprocess_input\n",
    "import numpy as np\n",
    "%matplotlib inline\n",
    "import matplotlib.pyplot as plt\n",
    "from keras import optimizers\n",
    "from keras.callbacks import ModelCheckpoint"
   ]
  },
  {
   "cell_type": "code",
   "execution_count": 0,
   "metadata": {
    "colab": {},
    "colab_type": "code",
    "id": "JFwIIR4UiVxM"
   },
   "outputs": [],
   "source": [
    "from keras.applications.vgg16 import preprocess_input, decode_predictions\n",
    "from keras.preprocessing import image\n",
    "import keras.backend as K\n",
    "import cv2\n",
    "import sys"
   ]
  },
  {
   "cell_type": "markdown",
   "metadata": {
    "colab_type": "text",
    "id": "2JLQ0Ena4VVy"
   },
   "source": [
    "# Using the code's parameters, train models\n",
    "## First get dataset using the repo's code"
   ]
  },
  {
   "cell_type": "code",
   "execution_count": 0,
   "metadata": {
    "colab": {
     "base_uri": "https://localhost:8080/",
     "height": 70
    },
    "colab_type": "code",
    "id": "8WC2pUTxAMtk",
    "outputId": "813062e5-1996-44ed-aa99-4236cbf72ba9"
   },
   "outputs": [
    {
     "name": "stdout",
     "output_type": "stream",
     "text": [
      "x_train shape: (50000, 32, 32, 3)\n",
      "50000 train samples\n",
      "10000 test samples\n"
     ]
    }
   ],
   "source": [
    "(x_train, y_train), (x_test, y_test) = cifar10.load_data()\n",
    "print('x_train shape:', x_train.shape)\n",
    "print(x_train.shape[0], 'train samples')\n",
    "print(x_test.shape[0], 'test samples')\n",
    "\n",
    "# Convert class vectors to binary class matrices.\n",
    "y_train = keras.utils.to_categorical(y_train, n_classes)\n",
    "y_test = keras.utils.to_categorical(y_test, n_classes)"
   ]
  },
  {
   "cell_type": "code",
   "execution_count": 0,
   "metadata": {
    "colab": {
     "base_uri": "https://localhost:8080/",
     "height": 52
    },
    "colab_type": "code",
    "id": "MDu44807eyMe",
    "outputId": "971bb9cb-4741-4b72-ad7c-6bfcedef8a41"
   },
   "outputs": [
    {
     "name": "stdout",
     "output_type": "stream",
     "text": [
      "108.38606770833333\n",
      "103.447265625\n"
     ]
    }
   ],
   "source": [
    "print(np.mean(x_test[0]))\n",
    "print(np.mean(x_train[0]))"
   ]
  },
  {
   "cell_type": "code",
   "execution_count": 0,
   "metadata": {
    "colab": {},
    "colab_type": "code",
    "id": "Up1X6jY_N5EU"
   },
   "outputs": [],
   "source": [
    "# normalize inputs from 0-255 to 0.0-1.0\n",
    "x_train = x_train.astype('float32')\n",
    "x_test = x_test.astype('float32')\n",
    "x_train = x_train / 255.0\n",
    "x_test = x_test / 255.0"
   ]
  },
  {
   "cell_type": "code",
   "execution_count": 0,
   "metadata": {
    "colab": {
     "base_uri": "https://localhost:8080/",
     "height": 52
    },
    "colab_type": "code",
    "id": "CB2ubxcIe705",
    "outputId": "e3d964e1-603a-4748-c984-e42e9198a089"
   },
   "outputs": [
    {
     "name": "stdout",
     "output_type": "stream",
     "text": [
      "0.42504343\n",
      "0.40567556\n"
     ]
    }
   ],
   "source": [
    "print(np.mean(x_test[0]))\n",
    "print(np.mean(x_train[0]))"
   ]
  },
  {
   "cell_type": "markdown",
   "metadata": {},
   "source": [
    "### Generate models using repo's code"
   ]
  },
  {
   "cell_type": "code",
   "execution_count": null,
   "metadata": {},
   "outputs": [],
   "source": [
    "batch_size = 128\n",
    "n_classes = 10 #Because CIFAR10 has 10 classes\n",
    "epochs = 20\n",
    "!mkdir checkpoint_dir\n",
    "!python train.py --n 3 --checkpoint_dir checkpoint_dir\n",
    "!python test.py --n 3 --checkpoint_dir checkpoint_dir/model_final.pth"
   ]
  },
  {
   "cell_type": "markdown",
   "metadata": {
    "colab_type": "text",
    "id": "5_Swca7wHePl"
   },
   "source": [
    "# Architecture Design: ResNet\n",
    "## different optimization strategies: SGD, momentum SGD with momentum term equal to 0.9, and ADAM\n",
    "### First of all, SGD\n",
    "Note that, we will conclude the train and test error after each method"
   ]
  },
  {
   "cell_type": "code",
   "execution_count": 0,
   "metadata": {
    "colab": {},
    "colab_type": "code",
    "id": "_5rS_4hECQKW"
   },
   "outputs": [],
   "source": [
    "base_model = ResNet18(input_shape=(32,32,3), weights='imagenet', include_top=False)\n",
    "x = keras.layers.GlobalAveragePooling2D()(base_model.output)\n",
    "output = keras.layers.Dense(n_classes, activation='softmax')(x)\n",
    "model = keras.models.Model(inputs=[base_model.input], outputs=[output])\n",
    "sgd = optimizers.SGD(lr=0.1, decay=0.0001, nesterov=True)\n",
    "model.compile(optimizer='SGD', loss='categorical_crossentropy', metrics=['accuracy'])"
   ]
  },
  {
   "cell_type": "code",
   "execution_count": 0,
   "metadata": {
    "colab": {
     "base_uri": "https://localhost:8080/",
     "height": 1000
    },
    "colab_type": "code",
    "id": "Ej-PKrc3AX4R",
    "outputId": "42ecf12c-e66b-4f01-b1fa-82870c81f9fb"
   },
   "outputs": [
    {
     "name": "stdout",
     "output_type": "stream",
     "text": [
      "__________________________________________________________________________________________________\n",
      "Layer (type)                    Output Shape         Param #     Connected to                     \n",
      "==================================================================================================\n",
      "data (InputLayer)               (None, 32, 32, 3)    0                                            \n",
      "__________________________________________________________________________________________________\n",
      "bn_data (BatchNormalization)    (None, 32, 32, 3)    9           data[0][0]                       \n",
      "__________________________________________________________________________________________________\n",
      "zero_padding2d_19 (ZeroPadding2 (None, 38, 38, 3)    0           bn_data[0][0]                    \n",
      "__________________________________________________________________________________________________\n",
      "conv0 (Conv2D)                  (None, 16, 16, 64)   9408        zero_padding2d_19[0][0]          \n",
      "__________________________________________________________________________________________________\n",
      "bn0 (BatchNormalization)        (None, 16, 16, 64)   256         conv0[0][0]                      \n",
      "__________________________________________________________________________________________________\n",
      "relu0 (Activation)              (None, 16, 16, 64)   0           bn0[0][0]                        \n",
      "__________________________________________________________________________________________________\n",
      "zero_padding2d_20 (ZeroPadding2 (None, 18, 18, 64)   0           relu0[0][0]                      \n",
      "__________________________________________________________________________________________________\n",
      "pooling0 (MaxPooling2D)         (None, 8, 8, 64)     0           zero_padding2d_20[0][0]          \n",
      "__________________________________________________________________________________________________\n",
      "stage1_unit1_bn1 (BatchNormaliz (None, 8, 8, 64)     256         pooling0[0][0]                   \n",
      "__________________________________________________________________________________________________\n",
      "stage1_unit1_relu1 (Activation) (None, 8, 8, 64)     0           stage1_unit1_bn1[0][0]           \n",
      "__________________________________________________________________________________________________\n",
      "zero_padding2d_21 (ZeroPadding2 (None, 10, 10, 64)   0           stage1_unit1_relu1[0][0]         \n",
      "__________________________________________________________________________________________________\n",
      "stage1_unit1_conv1 (Conv2D)     (None, 8, 8, 64)     36864       zero_padding2d_21[0][0]          \n",
      "__________________________________________________________________________________________________\n",
      "stage1_unit1_bn2 (BatchNormaliz (None, 8, 8, 64)     256         stage1_unit1_conv1[0][0]         \n",
      "__________________________________________________________________________________________________\n",
      "stage1_unit1_relu2 (Activation) (None, 8, 8, 64)     0           stage1_unit1_bn2[0][0]           \n",
      "__________________________________________________________________________________________________\n",
      "zero_padding2d_22 (ZeroPadding2 (None, 10, 10, 64)   0           stage1_unit1_relu2[0][0]         \n",
      "__________________________________________________________________________________________________\n",
      "stage1_unit1_conv2 (Conv2D)     (None, 8, 8, 64)     36864       zero_padding2d_22[0][0]          \n",
      "__________________________________________________________________________________________________\n",
      "stage1_unit1_sc (Conv2D)        (None, 8, 8, 64)     4096        stage1_unit1_relu1[0][0]         \n",
      "__________________________________________________________________________________________________\n",
      "add_9 (Add)                     (None, 8, 8, 64)     0           stage1_unit1_conv2[0][0]         \n",
      "                                                                 stage1_unit1_sc[0][0]            \n",
      "__________________________________________________________________________________________________\n",
      "stage1_unit2_bn1 (BatchNormaliz (None, 8, 8, 64)     256         add_9[0][0]                      \n",
      "__________________________________________________________________________________________________\n",
      "stage1_unit2_relu1 (Activation) (None, 8, 8, 64)     0           stage1_unit2_bn1[0][0]           \n",
      "__________________________________________________________________________________________________\n",
      "zero_padding2d_23 (ZeroPadding2 (None, 10, 10, 64)   0           stage1_unit2_relu1[0][0]         \n",
      "__________________________________________________________________________________________________\n",
      "stage1_unit2_conv1 (Conv2D)     (None, 8, 8, 64)     36864       zero_padding2d_23[0][0]          \n",
      "__________________________________________________________________________________________________\n",
      "stage1_unit2_bn2 (BatchNormaliz (None, 8, 8, 64)     256         stage1_unit2_conv1[0][0]         \n",
      "__________________________________________________________________________________________________\n",
      "stage1_unit2_relu2 (Activation) (None, 8, 8, 64)     0           stage1_unit2_bn2[0][0]           \n",
      "__________________________________________________________________________________________________\n",
      "zero_padding2d_24 (ZeroPadding2 (None, 10, 10, 64)   0           stage1_unit2_relu2[0][0]         \n",
      "__________________________________________________________________________________________________\n",
      "stage1_unit2_conv2 (Conv2D)     (None, 8, 8, 64)     36864       zero_padding2d_24[0][0]          \n",
      "__________________________________________________________________________________________________\n",
      "add_10 (Add)                    (None, 8, 8, 64)     0           stage1_unit2_conv2[0][0]         \n",
      "                                                                 add_9[0][0]                      \n",
      "__________________________________________________________________________________________________\n",
      "stage2_unit1_bn1 (BatchNormaliz (None, 8, 8, 64)     256         add_10[0][0]                     \n",
      "__________________________________________________________________________________________________\n",
      "stage2_unit1_relu1 (Activation) (None, 8, 8, 64)     0           stage2_unit1_bn1[0][0]           \n",
      "__________________________________________________________________________________________________\n",
      "zero_padding2d_25 (ZeroPadding2 (None, 10, 10, 64)   0           stage2_unit1_relu1[0][0]         \n",
      "__________________________________________________________________________________________________\n",
      "stage2_unit1_conv1 (Conv2D)     (None, 4, 4, 128)    73728       zero_padding2d_25[0][0]          \n",
      "__________________________________________________________________________________________________\n",
      "stage2_unit1_bn2 (BatchNormaliz (None, 4, 4, 128)    512         stage2_unit1_conv1[0][0]         \n",
      "__________________________________________________________________________________________________\n",
      "stage2_unit1_relu2 (Activation) (None, 4, 4, 128)    0           stage2_unit1_bn2[0][0]           \n",
      "__________________________________________________________________________________________________\n",
      "zero_padding2d_26 (ZeroPadding2 (None, 6, 6, 128)    0           stage2_unit1_relu2[0][0]         \n",
      "__________________________________________________________________________________________________\n",
      "stage2_unit1_conv2 (Conv2D)     (None, 4, 4, 128)    147456      zero_padding2d_26[0][0]          \n",
      "__________________________________________________________________________________________________\n",
      "stage2_unit1_sc (Conv2D)        (None, 4, 4, 128)    8192        stage2_unit1_relu1[0][0]         \n",
      "__________________________________________________________________________________________________\n",
      "add_11 (Add)                    (None, 4, 4, 128)    0           stage2_unit1_conv2[0][0]         \n",
      "                                                                 stage2_unit1_sc[0][0]            \n",
      "__________________________________________________________________________________________________\n",
      "stage2_unit2_bn1 (BatchNormaliz (None, 4, 4, 128)    512         add_11[0][0]                     \n",
      "__________________________________________________________________________________________________\n",
      "stage2_unit2_relu1 (Activation) (None, 4, 4, 128)    0           stage2_unit2_bn1[0][0]           \n",
      "__________________________________________________________________________________________________\n",
      "zero_padding2d_27 (ZeroPadding2 (None, 6, 6, 128)    0           stage2_unit2_relu1[0][0]         \n",
      "__________________________________________________________________________________________________\n",
      "stage2_unit2_conv1 (Conv2D)     (None, 4, 4, 128)    147456      zero_padding2d_27[0][0]          \n",
      "__________________________________________________________________________________________________\n",
      "stage2_unit2_bn2 (BatchNormaliz (None, 4, 4, 128)    512         stage2_unit2_conv1[0][0]         \n",
      "__________________________________________________________________________________________________\n",
      "stage2_unit2_relu2 (Activation) (None, 4, 4, 128)    0           stage2_unit2_bn2[0][0]           \n",
      "__________________________________________________________________________________________________\n",
      "zero_padding2d_28 (ZeroPadding2 (None, 6, 6, 128)    0           stage2_unit2_relu2[0][0]         \n",
      "__________________________________________________________________________________________________\n",
      "stage2_unit2_conv2 (Conv2D)     (None, 4, 4, 128)    147456      zero_padding2d_28[0][0]          \n",
      "__________________________________________________________________________________________________\n",
      "add_12 (Add)                    (None, 4, 4, 128)    0           stage2_unit2_conv2[0][0]         \n",
      "                                                                 add_11[0][0]                     \n",
      "__________________________________________________________________________________________________\n",
      "stage3_unit1_bn1 (BatchNormaliz (None, 4, 4, 128)    512         add_12[0][0]                     \n",
      "__________________________________________________________________________________________________\n",
      "stage3_unit1_relu1 (Activation) (None, 4, 4, 128)    0           stage3_unit1_bn1[0][0]           \n",
      "__________________________________________________________________________________________________\n",
      "zero_padding2d_29 (ZeroPadding2 (None, 6, 6, 128)    0           stage3_unit1_relu1[0][0]         \n",
      "__________________________________________________________________________________________________\n",
      "stage3_unit1_conv1 (Conv2D)     (None, 2, 2, 256)    294912      zero_padding2d_29[0][0]          \n",
      "__________________________________________________________________________________________________\n",
      "stage3_unit1_bn2 (BatchNormaliz (None, 2, 2, 256)    1024        stage3_unit1_conv1[0][0]         \n",
      "__________________________________________________________________________________________________\n",
      "stage3_unit1_relu2 (Activation) (None, 2, 2, 256)    0           stage3_unit1_bn2[0][0]           \n",
      "__________________________________________________________________________________________________\n",
      "zero_padding2d_30 (ZeroPadding2 (None, 4, 4, 256)    0           stage3_unit1_relu2[0][0]         \n",
      "__________________________________________________________________________________________________\n",
      "stage3_unit1_conv2 (Conv2D)     (None, 2, 2, 256)    589824      zero_padding2d_30[0][0]          \n",
      "__________________________________________________________________________________________________\n",
      "stage3_unit1_sc (Conv2D)        (None, 2, 2, 256)    32768       stage3_unit1_relu1[0][0]         \n",
      "__________________________________________________________________________________________________\n",
      "add_13 (Add)                    (None, 2, 2, 256)    0           stage3_unit1_conv2[0][0]         \n",
      "                                                                 stage3_unit1_sc[0][0]            \n",
      "__________________________________________________________________________________________________\n",
      "stage3_unit2_bn1 (BatchNormaliz (None, 2, 2, 256)    1024        add_13[0][0]                     \n",
      "__________________________________________________________________________________________________\n",
      "stage3_unit2_relu1 (Activation) (None, 2, 2, 256)    0           stage3_unit2_bn1[0][0]           \n",
      "__________________________________________________________________________________________________\n",
      "zero_padding2d_31 (ZeroPadding2 (None, 4, 4, 256)    0           stage3_unit2_relu1[0][0]         \n",
      "__________________________________________________________________________________________________\n",
      "stage3_unit2_conv1 (Conv2D)     (None, 2, 2, 256)    589824      zero_padding2d_31[0][0]          \n",
      "__________________________________________________________________________________________________\n",
      "stage3_unit2_bn2 (BatchNormaliz (None, 2, 2, 256)    1024        stage3_unit2_conv1[0][0]         \n",
      "__________________________________________________________________________________________________\n",
      "stage3_unit2_relu2 (Activation) (None, 2, 2, 256)    0           stage3_unit2_bn2[0][0]           \n",
      "__________________________________________________________________________________________________\n",
      "zero_padding2d_32 (ZeroPadding2 (None, 4, 4, 256)    0           stage3_unit2_relu2[0][0]         \n",
      "__________________________________________________________________________________________________\n",
      "stage3_unit2_conv2 (Conv2D)     (None, 2, 2, 256)    589824      zero_padding2d_32[0][0]          \n",
      "__________________________________________________________________________________________________\n",
      "add_14 (Add)                    (None, 2, 2, 256)    0           stage3_unit2_conv2[0][0]         \n",
      "                                                                 add_13[0][0]                     \n",
      "__________________________________________________________________________________________________\n",
      "stage4_unit1_bn1 (BatchNormaliz (None, 2, 2, 256)    1024        add_14[0][0]                     \n",
      "__________________________________________________________________________________________________\n",
      "stage4_unit1_relu1 (Activation) (None, 2, 2, 256)    0           stage4_unit1_bn1[0][0]           \n",
      "__________________________________________________________________________________________________\n",
      "zero_padding2d_33 (ZeroPadding2 (None, 4, 4, 256)    0           stage4_unit1_relu1[0][0]         \n",
      "__________________________________________________________________________________________________\n",
      "stage4_unit1_conv1 (Conv2D)     (None, 1, 1, 512)    1179648     zero_padding2d_33[0][0]          \n",
      "__________________________________________________________________________________________________\n",
      "stage4_unit1_bn2 (BatchNormaliz (None, 1, 1, 512)    2048        stage4_unit1_conv1[0][0]         \n",
      "__________________________________________________________________________________________________\n",
      "stage4_unit1_relu2 (Activation) (None, 1, 1, 512)    0           stage4_unit1_bn2[0][0]           \n",
      "__________________________________________________________________________________________________\n",
      "zero_padding2d_34 (ZeroPadding2 (None, 3, 3, 512)    0           stage4_unit1_relu2[0][0]         \n",
      "__________________________________________________________________________________________________\n",
      "stage4_unit1_conv2 (Conv2D)     (None, 1, 1, 512)    2359296     zero_padding2d_34[0][0]          \n",
      "__________________________________________________________________________________________________\n",
      "stage4_unit1_sc (Conv2D)        (None, 1, 1, 512)    131072      stage4_unit1_relu1[0][0]         \n",
      "__________________________________________________________________________________________________\n",
      "add_15 (Add)                    (None, 1, 1, 512)    0           stage4_unit1_conv2[0][0]         \n",
      "                                                                 stage4_unit1_sc[0][0]            \n",
      "__________________________________________________________________________________________________\n",
      "stage4_unit2_bn1 (BatchNormaliz (None, 1, 1, 512)    2048        add_15[0][0]                     \n",
      "__________________________________________________________________________________________________\n",
      "stage4_unit2_relu1 (Activation) (None, 1, 1, 512)    0           stage4_unit2_bn1[0][0]           \n",
      "__________________________________________________________________________________________________\n",
      "zero_padding2d_35 (ZeroPadding2 (None, 3, 3, 512)    0           stage4_unit2_relu1[0][0]         \n",
      "__________________________________________________________________________________________________\n",
      "stage4_unit2_conv1 (Conv2D)     (None, 1, 1, 512)    2359296     zero_padding2d_35[0][0]          \n",
      "__________________________________________________________________________________________________\n",
      "stage4_unit2_bn2 (BatchNormaliz (None, 1, 1, 512)    2048        stage4_unit2_conv1[0][0]         \n",
      "__________________________________________________________________________________________________\n",
      "stage4_unit2_relu2 (Activation) (None, 1, 1, 512)    0           stage4_unit2_bn2[0][0]           \n",
      "__________________________________________________________________________________________________\n",
      "zero_padding2d_36 (ZeroPadding2 (None, 3, 3, 512)    0           stage4_unit2_relu2[0][0]         \n",
      "__________________________________________________________________________________________________\n",
      "stage4_unit2_conv2 (Conv2D)     (None, 1, 1, 512)    2359296     zero_padding2d_36[0][0]          \n",
      "__________________________________________________________________________________________________\n",
      "add_16 (Add)                    (None, 1, 1, 512)    0           stage4_unit2_conv2[0][0]         \n",
      "                                                                 add_15[0][0]                     \n",
      "__________________________________________________________________________________________________\n",
      "bn1 (BatchNormalization)        (None, 1, 1, 512)    2048        add_16[0][0]                     \n",
      "__________________________________________________________________________________________________\n",
      "relu1 (Activation)              (None, 1, 1, 512)    0           bn1[0][0]                        \n",
      "__________________________________________________________________________________________________\n",
      "global_average_pooling2d_2 (Glo (None, 512)          0           relu1[0][0]                      \n",
      "__________________________________________________________________________________________________\n",
      "dense_2 (Dense)                 (None, 10)           5130        global_average_pooling2d_2[0][0] \n",
      "==================================================================================================\n",
      "Total params: 11,192,019\n",
      "Trainable params: 11,184,077\n",
      "Non-trainable params: 7,942\n",
      "__________________________________________________________________________________________________\n"
     ]
    }
   ],
   "source": [
    "model.summary()"
   ]
  },
  {
   "cell_type": "code",
   "execution_count": 0,
   "metadata": {
    "colab": {
     "base_uri": "https://localhost:8080/",
     "height": 70
    },
    "colab_type": "code",
    "id": "crGMTWb0BXNB",
    "outputId": "2e651012-b327-4f49-d35b-58d6cfc72742"
   },
   "outputs": [
    {
     "name": "stdout",
     "output_type": "stream",
     "text": [
      "10000/10000 [==============================] - 21s 2ms/step\n",
      "Test loss: 2.4171396324157715\n",
      "Test accuracy: 0.1\n"
     ]
    }
   ],
   "source": [
    "scores = model.evaluate(x_test, y_test, verbose=1)\n",
    "print('Test loss:', scores[0])\n",
    "print('Test accuracy:', scores[1])"
   ]
  },
  {
   "cell_type": "markdown",
   "metadata": {
    "colab_type": "text",
    "id": "JweOsIAY5azU"
   },
   "source": [
    "### Next, SGD with momentum = 0.9"
   ]
  },
  {
   "cell_type": "code",
   "execution_count": null,
   "metadata": {},
   "outputs": [],
   "source": [
    "sgd = optimizers.SGD(lr=0.1, decay=0.0001, momentum=0.9, nesterov=True)\n",
    "model.compile(optimizer='SGD', loss='categorical_crossentropy', metrics=['accuracy'])"
   ]
  },
  {
   "cell_type": "code",
   "execution_count": 11,
   "metadata": {},
   "outputs": [
    {
     "name": "stdout",
     "output_type": "stream",
     "text": [
      "Test loss: 1.6304093204734795\n",
      "Test accuracy:0.108\n"
     ]
    }
   ],
   "source": [
    "scores = model.evaluate(x_test, y_test, verbose=1)\n",
    "print('Test loss:', scores[0])\n",
    "print('Test accuracy:', scores[1])"
   ]
  },
  {
   "cell_type": "markdown",
   "metadata": {},
   "source": [
    "### Finally, ADAM"
   ]
  },
  {
   "cell_type": "code",
   "execution_count": null,
   "metadata": {},
   "outputs": [],
   "source": [
    "adam = optimizers.ADAM(lr=0.1, decay=0.0001, nesterov=True)\n",
    "model.compile(optimizer='ADAM', loss='categorical_crossentropy', metrics=['accuracy'])"
   ]
  },
  {
   "cell_type": "code",
   "execution_count": 12,
   "metadata": {},
   "outputs": [
    {
     "name": "stdout",
     "output_type": "stream",
     "text": [
      "Test loss: 1.6304093204734795\n",
      "Test accuracy:0.121\n"
     ]
    }
   ],
   "source": [
    "scores = model.evaluate(x_test, y_test, verbose=1)\n",
    "print('Test loss:', scores[0])\n",
    "print('Test accuracy:', scores[1])"
   ]
  },
  {
   "cell_type": "markdown",
   "metadata": {},
   "source": [
    "### Details of  train and test loss versus iterations, Play around with learning rates"
   ]
  },
  {
   "cell_type": "code",
   "execution_count": 0,
   "metadata": {
    "colab": {},
    "colab_type": "code",
    "id": "FKtb2fsKPyrH"
   },
   "outputs": [],
   "source": [
    "import math\n",
    "# learning rate schedule\n",
    "def step_decay(epoch):\n",
    "\tinitial_lrate = 0.1\n",
    "\tdrop = 0.7\n",
    "\tepochs_drop = 7.0\n",
    "\tlrate = initial_lrate * math.pow(drop, math.floor((1+epoch)/epochs_drop))\n",
    "\treturn lrate"
   ]
  },
  {
   "cell_type": "code",
   "execution_count": 0,
   "metadata": {
    "colab": {
     "base_uri": "https://localhost:8080/",
     "height": 459
    },
    "colab_type": "code",
    "id": "h2iNjVfeRFiM",
    "outputId": "9c50fc29-9ad0-437b-b5dd-e9264402d343"
   },
   "outputs": [
    {
     "name": "stdout",
     "output_type": "stream",
     "text": [
      "Epoch 1 :  0.1\n",
      "Epoch 2 :  0.1\n",
      "Epoch 3 :  0.1\n",
      "Epoch 4 :  0.1\n",
      "Epoch 5 :  0.1\n",
      "Epoch 6 :  0.06999999999999999\n",
      "Epoch 7 :  0.06999999999999999\n",
      "Epoch 8 :  0.06999999999999999\n",
      "Epoch 9 :  0.06999999999999999\n",
      "Epoch 10 :  0.06999999999999999\n",
      "Epoch 11 :  0.06999999999999999\n",
      "Epoch 12 :  0.06999999999999999\n",
      "Epoch 13 :  0.048999999999999995\n",
      "Epoch 14 :  0.048999999999999995\n",
      "Epoch 15 :  0.048999999999999995\n",
      "Epoch 16 :  0.048999999999999995\n",
      "Epoch 17 :  0.048999999999999995\n",
      "Epoch 18 :  0.048999999999999995\n",
      "Epoch 19 :  0.048999999999999995\n",
      "Epoch 20 :  0.03429999999999999\n",
      "Epoch 21 :  0.03429999999999999\n",
      "Epoch 22 :  0.03429999999999999\n",
      "Epoch 23 :  0.03429999999999999\n",
      "Epoch 24 :  0.03429999999999999\n",
      "Epoch 25 :  0.03429999999999999\n"
     ]
    }
   ],
   "source": [
    "for i in range(1,26):\n",
    "  print(\"Epoch \"+str(i)+ \" : \",step_decay(i))"
   ]
  },
  {
   "cell_type": "code",
   "execution_count": 0,
   "metadata": {
    "colab": {},
    "colab_type": "code",
    "id": "q9UKkpVNPyl3"
   },
   "outputs": [],
   "source": [
    "from keras.callbacks import LearningRateScheduler\n",
    "lrate = LearningRateScheduler(step_decay)"
   ]
  },
  {
   "cell_type": "code",
   "execution_count": 0,
   "metadata": {
    "colab": {},
    "colab_type": "code",
    "id": "qkpTyzop79br"
   },
   "outputs": [],
   "source": [
    "epochs = 25"
   ]
  },
  {
   "cell_type": "code",
   "execution_count": 0,
   "metadata": {
    "colab": {
     "base_uri": "https://localhost:8080/",
     "height": 1000
    },
    "colab_type": "code",
    "id": "C2I1XFJQBpBq",
    "outputId": "0e287a9c-303f-4e64-a760-152fcd83fbe0"
   },
   "outputs": [
    {
     "name": "stdout",
     "output_type": "stream",
     "text": [
      "Train on 50000 samples, validate on 10000 samples\n",
      "Epoch 1/25\n",
      "50000/50000 [==============================] - 48s 950us/step - loss: 0.8804 - acc: 0.7004 - val_loss: 0.7383 - val_acc: 0.7479\n",
      "\n",
      "Epoch 00001: val_acc improved from -inf to 0.74790, saving model to Assignment_5.hdf5\n",
      "Epoch 2/25\n",
      "50000/50000 [==============================] - 16s 321us/step - loss: 0.5095 - acc: 0.8239 - val_loss: 0.6738 - val_acc: 0.7710\n",
      "\n",
      "Epoch 00002: val_acc improved from 0.74790 to 0.77100, saving model to Assignment_5.hdf5\n",
      "Epoch 3/25\n",
      "50000/50000 [==============================] - 16s 322us/step - loss: 0.3639 - acc: 0.8726 - val_loss: 0.6230 - val_acc: 0.8002\n",
      "\n",
      "Epoch 00003: val_acc improved from 0.77100 to 0.80020, saving model to Assignment_5.hdf5\n",
      "Epoch 4/25\n",
      "50000/50000 [==============================] - 16s 325us/step - loss: 0.2617 - acc: 0.9084 - val_loss: 0.8335 - val_acc: 0.7603\n",
      "\n",
      "Epoch 00004: val_acc did not improve from 0.80020\n",
      "Epoch 5/25\n",
      "50000/50000 [==============================] - 16s 320us/step - loss: 0.1966 - acc: 0.9308 - val_loss: 0.7964 - val_acc: 0.7880\n",
      "\n",
      "Epoch 00005: val_acc did not improve from 0.80020\n",
      "Epoch 6/25\n",
      "50000/50000 [==============================] - 16s 318us/step - loss: 0.1491 - acc: 0.9467 - val_loss: 0.7975 - val_acc: 0.7973\n",
      "\n",
      "Epoch 00006: val_acc did not improve from 0.80020\n",
      "Epoch 7/25\n",
      "50000/50000 [==============================] - 16s 319us/step - loss: 0.0649 - acc: 0.9777 - val_loss: 0.8951 - val_acc: 0.8109\n",
      "\n",
      "Epoch 00007: val_acc improved from 0.80020 to 0.81090, saving model to Assignment_5.hdf5\n",
      "Epoch 8/25\n",
      "50000/50000 [==============================] - 16s 319us/step - loss: 0.0482 - acc: 0.9836 - val_loss: 0.9471 - val_acc: 0.8080\n",
      "\n",
      "Epoch 00008: val_acc did not improve from 0.81090\n",
      "Epoch 9/25\n",
      "50000/50000 [==============================] - 16s 319us/step - loss: 0.0387 - acc: 0.9863 - val_loss: 0.9463 - val_acc: 0.8196\n",
      "\n",
      "Epoch 00009: val_acc improved from 0.81090 to 0.81960, saving model to Assignment_5.hdf5\n",
      "Epoch 10/25\n",
      "50000/50000 [==============================] - 16s 319us/step - loss: 0.0360 - acc: 0.9875 - val_loss: 1.0777 - val_acc: 0.7960\n",
      "\n",
      "Epoch 00010: val_acc did not improve from 0.81960\n",
      "Epoch 11/25\n",
      "50000/50000 [==============================] - 16s 319us/step - loss: 0.0309 - acc: 0.9898 - val_loss: 1.0104 - val_acc: 0.8119\n",
      "\n",
      "Epoch 00011: val_acc did not improve from 0.81960\n",
      "Epoch 12/25\n",
      "50000/50000 [==============================] - 16s 320us/step - loss: 0.0258 - acc: 0.9911 - val_loss: 1.0326 - val_acc: 0.8146\n",
      "\n",
      "Epoch 00012: val_acc did not improve from 0.81960\n",
      "Epoch 13/25\n",
      "50000/50000 [==============================] - 16s 319us/step - loss: 0.0219 - acc: 0.9926 - val_loss: 1.1001 - val_acc: 0.8128\n",
      "\n",
      "Epoch 00013: val_acc did not improve from 0.81960\n",
      "Epoch 14/25\n",
      "50000/50000 [==============================] - 16s 319us/step - loss: 0.0115 - acc: 0.9961 - val_loss: 0.9674 - val_acc: 0.8292\n",
      "\n",
      "Epoch 00014: val_acc improved from 0.81960 to 0.82920, saving model to Assignment_5.hdf5\n",
      "Epoch 15/25\n",
      "50000/50000 [==============================] - 16s 319us/step - loss: 0.0055 - acc: 0.9986 - val_loss: 1.0159 - val_acc: 0.8268\n",
      "\n",
      "Epoch 00015: val_acc did not improve from 0.82920\n",
      "Epoch 16/25\n",
      "50000/50000 [==============================] - 16s 320us/step - loss: 0.0042 - acc: 0.9988 - val_loss: 1.0066 - val_acc: 0.8332\n",
      "\n",
      "Epoch 00016: val_acc improved from 0.82920 to 0.83320, saving model to Assignment_5.hdf5\n",
      "Epoch 17/25\n",
      "50000/50000 [==============================] - 16s 320us/step - loss: 0.0032 - acc: 0.9991 - val_loss: 1.0426 - val_acc: 0.8310\n",
      "\n",
      "Epoch 00017: val_acc did not improve from 0.83320\n",
      "Epoch 18/25\n",
      "50000/50000 [==============================] - 16s 319us/step - loss: 0.0022 - acc: 0.9994 - val_loss: 1.0271 - val_acc: 0.8361\n",
      "\n",
      "Epoch 00018: val_acc improved from 0.83320 to 0.83610, saving model to Assignment_5.hdf5\n",
      "Epoch 19/25\n",
      "50000/50000 [==============================] - 16s 319us/step - loss: 0.0013 - acc: 0.9997 - val_loss: 1.0398 - val_acc: 0.8365\n",
      "\n",
      "Epoch 00019: val_acc improved from 0.83610 to 0.83650, saving model to Assignment_5.hdf5\n",
      "Epoch 20/25\n",
      "50000/50000 [==============================] - 16s 320us/step - loss: 0.0012 - acc: 0.9998 - val_loss: 1.0579 - val_acc: 0.8363\n",
      "\n",
      "Epoch 00020: val_acc did not improve from 0.83650\n",
      "Epoch 21/25\n",
      "50000/50000 [==============================] - 16s 321us/step - loss: 0.0011 - acc: 0.9998 - val_loss: 1.0578 - val_acc: 0.8365\n",
      "\n",
      "Epoch 00021: val_acc did not improve from 0.83650\n",
      "Epoch 22/25\n",
      "50000/50000 [==============================] - 16s 319us/step - loss: 7.0584e-04 - acc: 0.9999 - val_loss: 1.0562 - val_acc: 0.8367\n",
      "\n",
      "Epoch 00022: val_acc improved from 0.83650 to 0.83670, saving model to Assignment_5.hdf5\n",
      "Epoch 23/25\n",
      "50000/50000 [==============================] - 16s 319us/step - loss: 4.9939e-04 - acc: 1.0000 - val_loss: 1.0491 - val_acc: 0.8395\n",
      "\n",
      "Epoch 00023: val_acc improved from 0.83670 to 0.83950, saving model to Assignment_5.hdf5\n",
      "Epoch 24/25\n",
      "50000/50000 [==============================] - 16s 318us/step - loss: 6.2364e-04 - acc: 0.9999 - val_loss: 1.0608 - val_acc: 0.8370\n",
      "\n",
      "Epoch 00024: val_acc did not improve from 0.83950\n",
      "Epoch 25/25\n",
      "50000/50000 [==============================] - 16s 318us/step - loss: 7.4653e-04 - acc: 0.9998 - val_loss: 1.0763 - val_acc: 0.8371\n",
      "\n",
      "Epoch 00025: val_acc did not improve from 0.83950\n"
     ]
    },
    {
     "data": {
      "text/plain": [
       "<keras.callbacks.History at 0x7feb29bf2080>"
      ]
     },
     "execution_count": 105,
     "metadata": {
      "tags": []
     },
     "output_type": "execute_result"
    }
   ],
   "source": [
    "model.fit(x_train, y_train, batch_size=batch_size, validation_data=(x_test, y_test), epochs=epochs, verbose=1,callbacks=[lrate,checkpoint])"
   ]
  },
  {
   "cell_type": "code",
   "execution_count": 0,
   "metadata": {
    "colab": {
     "base_uri": "https://localhost:8080/",
     "height": 70
    },
    "colab_type": "code",
    "id": "juC4vlxlVAi4",
    "outputId": "895a3ff8-7784-4b53-efc2-fd5e71c12cd9"
   },
   "outputs": [
    {
     "name": "stdout",
     "output_type": "stream",
     "text": [
      "10000/10000 [==============================] - 2s 192us/step\n",
      "Test loss: 1.0762726390004158\n",
      "Test accuracy: 0.8371\n"
     ]
    }
   ],
   "source": [
    "scores = model.evaluate(x_test, y_test, verbose=1)\n",
    "print('Test loss:', scores[0])\n",
    "print('Test accuracy:', scores[1])"
   ]
  },
  {
   "cell_type": "code",
   "execution_count": 0,
   "metadata": {
    "colab": {
     "base_uri": "https://localhost:8080/",
     "height": 35
    },
    "colab_type": "code",
    "id": "snk8IOVWR88Z",
    "outputId": "ffa69cb7-2a2c-4109-953d-5547444832f6"
   },
   "outputs": [
    {
     "name": "stdout",
     "output_type": "stream",
     "text": [
      "Saved model to disk\n"
     ]
    }
   ],
   "source": [
    "# Save the trained weights in to .h5 format\n",
    "model.save_weights(\"ResNet_CIFAR10_Weights_Best.h5\")\n",
    "print(\"Saved model to disk\")"
   ]
  },
  {
   "cell_type": "code",
   "execution_count": 0,
   "metadata": {
    "colab": {
     "base_uri": "https://localhost:8080/",
     "height": 35
    },
    "colab_type": "code",
    "id": "poDGUWtVSAs7",
    "outputId": "dbe3ae42-afe6-4898-e42f-eb9d5cc59b57"
   },
   "outputs": [
    {
     "name": "stdout",
     "output_type": "stream",
     "text": [
      "Saved model to disk\n"
     ]
    }
   ],
   "source": [
    "# Save the trained model in to .h5 format\n",
    "model.save(\"ResNet_CIFAR10_Model_Best.h5\")\n",
    "print(\"Saved model to disk\")"
   ]
  },
  {
   "cell_type": "markdown",
   "metadata": {},
   "source": [
    "As a conclusion, we found out that ADAM was the best followed by Momentum SGD and finally Vanilla SGD. The leraning rate was optimized at 0.1, as for Momentum SGD tested."
   ]
  },
  {
   "cell_type": "code",
   "execution_count": null,
   "metadata": {},
   "outputs": [],
   "source": []
  }
 ],
 "metadata": {
  "accelerator": "GPU",
  "colab": {
   "collapsed_sections": [],
   "name": "ResNet on CIFAR10.ipynb",
   "provenance": [],
   "version": "0.3.2"
  },
  "kernelspec": {
   "display_name": "Python 3",
   "language": "python",
   "name": "python3"
  },
  "language_info": {
   "codemirror_mode": {
    "name": "ipython",
    "version": 3
   },
   "file_extension": ".py",
   "mimetype": "text/x-python",
   "name": "python",
   "nbconvert_exporter": "python",
   "pygments_lexer": "ipython3",
   "version": "3.7.5"
  }
 },
 "nbformat": 4,
 "nbformat_minor": 1
}
